{
 "cells": [
  {
   "cell_type": "code",
   "execution_count": 1,
   "id": "163c380c",
   "metadata": {},
   "outputs": [
    {
     "name": "stdout",
     "output_type": "stream",
     "text": [
      "   Feature1  Feature2\n",
      "0        10       5.5\n",
      "1        20       6.7\n",
      "2        30       8.9\n",
      "   Feature1  Feature2\n",
      "0      10.0       5.5\n",
      "1      20.0       6.7\n",
      "2       NaN       8.9\n"
     ]
    }
   ],
   "source": [
    "#1.Debug the given code\n",
    "\n",
    "#import pandas as pd\n",
    "#data = {'Feature1': ['10', '20', 'Thirty'],  # 'Thirty' is not a valid number\n",
    " #       'Feature2': [5.5, 6.7, 8.9]}\n",
    "#df = pd.DataFrame(data)\n",
    "#df['Feature1'] = df['Feature1'].astype(int)  # Error: Cannot convert 'Thirty' to int\n",
    "#print(df)\n",
    "\n",
    "\n",
    "#Answer#\n",
    "\n",
    "import pandas as pd\n",
    "\n",
    "data = {'Feature1': ['10', '20', 'Thirty'],  \n",
    "        'Feature2': [5.5, 6.7, 8.9]}\n",
    "\n",
    "df = pd.DataFrame(data)\n",
    "df['Feature1'] = df['Feature1'].replace({\"Thirty\": 30})\n",
    "df['Feature1'] = df['Feature1'].astype(int)  \n",
    "\n",
    "print(df)\n",
    "\n",
    "\n",
    "import pandas as pd\n",
    "\n",
    "data = {'Feature1': ['10', '20', 'Thirty'],  \n",
    "        'Feature2': [5.5, 6.7, 8.9]}\n",
    "\n",
    "df = pd.DataFrame(data)\n",
    "df['Feature1'] = pd.to_numeric(df['Feature1'], errors='coerce')  \n",
    "\n",
    "print(df)"
   ]
  },
  {
   "cell_type": "code",
   "execution_count": 2,
   "id": "75ed407d",
   "metadata": {},
   "outputs": [
    {
     "name": "stdout",
     "output_type": "stream",
     "text": [
      "     A    B\n",
      "0  1.0  4.0\n",
      "1  2.0  5.0\n",
      "2  1.5  6.0\n"
     ]
    }
   ],
   "source": [
    "#2.\n",
    "#import pandas as pd\n",
    "\n",
    "#data = {'A': [1, 2, None],  # Missing value\n",
    "#        'B': [4, None, 6]}  # Missing value\n",
    "\n",
    "#df = pd.DataFrame(data)\n",
    "#mean_value = df.mean()\n",
    "#df.fillna(mean_value)  # Error: fillna() does not modify in place\n",
    "\n",
    "#print(df)\n",
    "\n",
    "\n",
    "#Answer#\n",
    "\n",
    "import pandas as pd\n",
    "\n",
    "data = {'A': [1, 2, None],  \n",
    "        'B': [4, None, 6]}  \n",
    "\n",
    "df = pd.DataFrame(data)\n",
    "mean_value = df.mean()\n",
    "df.fillna(mean_value, inplace = True)  \n",
    "\n",
    "print(df)"
   ]
  },
  {
   "cell_type": "code",
   "execution_count": 3,
   "id": "e65cb6bb",
   "metadata": {},
   "outputs": [
    {
     "name": "stdout",
     "output_type": "stream",
     "text": [
      "[24.]\n",
      "[24.]\n"
     ]
    }
   ],
   "source": [
    "#3.from sklearn.linear_model import LinearRegression\n",
    "#import numpy as np\n",
    "\n",
    "#X = np.array([1, 2, 3, 4, 5])  # Error: X should be 2D\n",
    "#y = np.array([2, 4, 6, 8, 10])\n",
    "\n",
    "#model = LinearRegression()\n",
    "#model.fit(X, y)\n",
    "\n",
    "\n",
    "#Answer#\n",
    "\n",
    "from sklearn.linear_model import LinearRegression\n",
    "import numpy as np\n",
    "\n",
    "X = np.array([[1], [2], [3], [4], [5]])  \n",
    "y = np.array([2, 4, 6, 8, 10])\n",
    "\n",
    "model = LinearRegression()\n",
    "model.fit(X, y)\n",
    "\n",
    "print(model.predict([[12]]))\n",
    "\n",
    "\n",
    "\n",
    "from sklearn.linear_model import LinearRegression\n",
    "import numpy as np\n",
    "\n",
    "X = np.array([1, 2, 3, 4, 5]).reshape(-1,1)  \n",
    "y = np.array([2, 4, 6, 8, 10])\n",
    "\n",
    "model = LinearRegression()\n",
    "model.fit(X, y)\n",
    "\n",
    "print(model.predict([[12]]))"
   ]
  },
  {
   "cell_type": "code",
   "execution_count": 4,
   "id": "b60f10de",
   "metadata": {},
   "outputs": [
    {
     "name": "stdout",
     "output_type": "stream",
     "text": [
      "[[-1.41421356]\n",
      " [-0.70710678]\n",
      " [ 0.        ]\n",
      " [ 0.70710678]\n",
      " [ 1.41421356]]\n"
     ]
    }
   ],
   "source": [
    "#4.\n",
    "#from sklearn.preprocessing import StandardScaler\n",
    "#import numpy as np\n",
    "#data = np.array([10, 20, 30, 40, 50])  # Error: Should be 2D\n",
    "#scaler = StandardScaler()\n",
    "#scaled_data = scaler.fit_transform(data)\n",
    "#print(scaled_data)\n",
    "\n",
    "\n",
    "#Answer#\n",
    "\n",
    "\n",
    "from sklearn.preprocessing import StandardScaler\n",
    "import numpy as np\n",
    "\n",
    "data = np.array([10, 20, 30, 40, 50]).reshape(-1, 1)  \n",
    "\n",
    "scaler = StandardScaler()\n",
    "scaled_data = scaler.fit_transform(data)\n",
    "\n",
    "print(scaled_data)"
   ]
  },
  {
   "cell_type": "code",
   "execution_count": 5,
   "id": "da46280a",
   "metadata": {},
   "outputs": [
    {
     "name": "stdout",
     "output_type": "stream",
     "text": [
      "[1]\n",
      "['yes']\n"
     ]
    }
   ],
   "source": [
    "#5.\n",
    "#from sklearn.linear_model import LogisticRegression\n",
    "#X = [[1, 2], [3, 4], [5, 6]]\n",
    "#y = ['yes', 'no', 'yes']  # Error: Labels should be numeric\n",
    "#model = LogisticRegression()\n",
    "#model.fit(X, y)\n",
    "\n",
    "#Answer#\n",
    "\n",
    "from sklearn.linear_model import LogisticRegression\n",
    "\n",
    "X = [[1, 2], [3, 4], [5, 6]]\n",
    "y = [1, 0, 1]  \n",
    "\n",
    "model = LogisticRegression()\n",
    "model.fit(X, y)\n",
    "\n",
    "print(model.predict([[3, 5]]))\n",
    "\n",
    "\n",
    "\n",
    "\n",
    "from sklearn.linear_model import LogisticRegression\n",
    "from sklearn.preprocessing import LabelEncoder\n",
    "\n",
    "X = [[1, 2], [3, 4], [5, 6]]\n",
    "y = ['yes', 'no', 'yes']  \n",
    "le = LabelEncoder()\n",
    "y_encoded = le.fit_transform(y)\n",
    "\n",
    "model = LogisticRegression()\n",
    "model.fit(X, y_encoded)\n",
    "\n",
    "prediction = model.predict([[4, 7]])\n",
    "print(le.inverse_transform(prediction))"
   ]
  },
  {
   "cell_type": "code",
   "execution_count": 6,
   "id": "a6845ab1",
   "metadata": {},
   "outputs": [
    {
     "name": "stdout",
     "output_type": "stream",
     "text": [
      "[[1. 0. 0.]\n",
      " [0. 1. 0.]\n",
      " [0. 0. 1.]\n",
      " [1. 0. 0.]]\n",
      "[[1. 0. 0.]\n",
      " [0. 1. 0.]\n",
      " [0. 0. 1.]\n",
      " [1. 0. 0.]]\n"
     ]
    }
   ],
   "source": [
    "#6.import pandas as pd\n",
    "#from sklearn.preprocessing import OneHotEncoder\n",
    "#df = pd.DataFrame({'Category': ['A', 'B', 'C', 'A']})\n",
    "#encoder = OneHotEncoder()\n",
    "#encoded = encoder.fit_transform(df['Category'])  # Error: Data should be reshaped\n",
    "#print(encoded)\n",
    "\n",
    "\n",
    "#Answer#\n",
    "\n",
    "import pandas as pd\n",
    "from sklearn.preprocessing import OneHotEncoder\n",
    "\n",
    "df = pd.DataFrame({'Category': ['A', 'B', 'C', 'A']})\n",
    "\n",
    "encoder = OneHotEncoder()\n",
    "encoded = encoder.fit_transform(df[['Category']])  \n",
    "print(encoded.toarray())\n",
    "\n",
    "\n",
    "import pandas as pd\n",
    "from sklearn.preprocessing import OneHotEncoder\n",
    "\n",
    "df = pd.DataFrame({'Category': ['A', 'B', 'C', 'A']})\n",
    "\n",
    "encoder = OneHotEncoder(sparse_output=False)\n",
    "encoded = encoder.fit_transform(df[['Category']])  \n",
    "print(encoded)"
   ]
  },
  {
   "cell_type": "code",
   "execution_count": 7,
   "id": "e4e1665b",
   "metadata": {},
   "outputs": [
    {
     "name": "stdout",
     "output_type": "stream",
     "text": [
      "X_test: [[5, 6]]\n",
      "y_test: [0]\n"
     ]
    }
   ],
   "source": [
    "#6.\n",
    "#from sklearn.model_selection import train_test_split\n",
    "#X = [[1, 2], [3, 4], [5, 6], [7, 8]]\n",
    "#y = [0, 1, 0]\n",
    "#X_train, X_test, y_train, y_test = train_test_split(X, y, test_size=0.2)\n",
    "\n",
    "\n",
    "#Answer#\n",
    "\n",
    "\n",
    "from sklearn.model_selection import train_test_split\n",
    "\n",
    "X = [[1, 2], [3, 4], [5, 6], [7, 8]]\n",
    "y = [0, 1, 0, 1]\n",
    "\n",
    "X_train, X_test, y_train, y_test = train_test_split(X, y, test_size=0.2)\n",
    "print(\"X_test:\",  X_test)\n",
    "print(\"y_test:\",  y_test)"
   ]
  },
  {
   "cell_type": "code",
   "execution_count": 8,
   "id": "6f9a8ec4",
   "metadata": {},
   "outputs": [
    {
     "name": "stdout",
     "output_type": "stream",
     "text": [
      "[1]\n"
     ]
    }
   ],
   "source": [
    "#7.from sklearn.linear_model import LogisticRegression\n",
    "#X_train = [[1, 2], [3, 4], [5, 6]]\n",
    "#y_train = [\"yes\", \"no\", \"yes\"]  # Error: LogisticRegression expects numerical labels\n",
    "#model = LogisticRegression()\n",
    "#model.fit(X_train, y_train)\n",
    "\n",
    "\n",
    "#Answer#\n",
    "\n",
    "\n",
    "from sklearn.linear_model import LogisticRegression\n",
    "from sklearn.preprocessing import LabelEncoder\n",
    "X_train = [[1, 2], [3, 4], [5, 6]]\n",
    "y_train = [\"yes\", \"no\", \"yes\"]  \n",
    "\n",
    "le=LabelEncoder()\n",
    "y_trainEncoder = le.fit_transform(y_train)\n",
    "\n",
    "model = LogisticRegression()\n",
    "model.fit(X_train, y_trainEncoder)\n",
    "print(model.predict([[8, 11]]))"
   ]
  },
  {
   "cell_type": "code",
   "execution_count": 9,
   "id": "ee13984b",
   "metadata": {},
   "outputs": [
    {
     "name": "stdout",
     "output_type": "stream",
     "text": [
      "[40.]\n"
     ]
    }
   ],
   "source": [
    "#8.\n",
    "#import numpy as np\n",
    "#import pandas as pd\n",
    "#from sklearn.linear_model import LinearRegression\n",
    "# Creating a dataset with missing values\n",
    "#X_train = np.array([[1, 2], [3, np.nan], [5, 6]])\n",
    "#y_train = np.array([10, 20, 30])\n",
    "#model = LinearRegression()\n",
    "#model.fit(X_train, y_train)  \n",
    "\n",
    "\n",
    "\n",
    "#Answer#\n",
    "\n",
    "\n",
    "import numpy as np\n",
    "import pandas as pd\n",
    "from sklearn.linear_model import LinearRegression\n",
    "from sklearn.impute import SimpleImputer\n",
    "\n",
    "# Creating a dataset with missing values\n",
    "X_train = np.array([[1, 2], [3, np.nan], [5, 6]])\n",
    "y_train = np.array([10, 20, 30])\n",
    "\n",
    "Imputer= SimpleImputer(strategy = \"mean\")\n",
    "X_train_imputer=Imputer.fit_transform(X_train)\n",
    "\n",
    "model = LinearRegression()\n",
    "model.fit(X_train_imputer, y_train) \n",
    "\n",
    "print(model.predict([[7, 8]]))"
   ]
  },
  {
   "cell_type": "code",
   "execution_count": 10,
   "id": "29fdd8c5",
   "metadata": {},
   "outputs": [
    {
     "name": "stdout",
     "output_type": "stream",
     "text": [
      "predictd value: [1]\n"
     ]
    }
   ],
   "source": [
    "#9.\n",
    "#from sklearn.tree import DecisionTreeClassifier\n",
    "#X_train = [[1, 2], [3, 4], [5, 6]]\n",
    "#y_train = [\"spam\", \"ham\", \"spam\"]  # Error: String labels not allowed\n",
    "#model = DecisionTreeClassifier()\n",
    "#model.fit(X_train, y_train)\n",
    "\n",
    "\n",
    "#Answer#\n",
    "\n",
    "\n",
    "from sklearn.tree import DecisionTreeClassifier\n",
    "from sklearn.preprocessing import LabelEncoder\n",
    "\n",
    "X_train = [[1, 2], [3, 4], [5, 6]]\n",
    "y_train = [\"spam\", \"ham\", \"spam\"]  # Error: String labels not allowed\n",
    "\n",
    "le=LabelEncoder()\n",
    "y_train_encoded=le.fit_transform(y_train)\n",
    "\n",
    "model = DecisionTreeClassifier()\n",
    "model.fit(X_train, y_train_encoded)\n",
    "\n",
    "predicted=model.predict([[8, 10]])\n",
    "print(\"predictd value:\", predicted)"
   ]
  },
  {
   "cell_type": "code",
   "execution_count": 11,
   "id": "4057ff6d",
   "metadata": {},
   "outputs": [
    {
     "name": "stdout",
     "output_type": "stream",
     "text": [
      "[0]\n"
     ]
    }
   ],
   "source": [
    "#10.\n",
    "#from sklearn.svm import SVC\n",
    "#X_train = [[1, 100], [2, 200], [3, 300]]\n",
    "#y_train = [0, 1, 0]\n",
    "#model = SVC()\n",
    "#model.fit(X_train, y_train)\n",
    "#print(model.predict([[1, 150]]))  # Unreliable output due to large-scale difference\n",
    "\n",
    "\n",
    "#Answer#\n",
    "\n",
    "\n",
    "from sklearn.svm import SVC\n",
    "from sklearn.preprocessing import StandardScaler\n",
    "\n",
    "X_train = [[1, 100], [2, 200], [3, 300]]\n",
    "y_train = [0, 1, 0]\n",
    "\n",
    "scaler=StandardScaler()\n",
    "X_train_Scaler=scaler.fit_transform(X_train)\n",
    "\n",
    "model = SVC()\n",
    "model.fit(X_train_Scaler, y_train)\n",
    "X_test_Scaler=scaler.transform([[4, 400]])\n",
    "print(model.predict(X_test_Scaler))\n",
    "\n"
   ]
  },
  {
   "cell_type": "code",
   "execution_count": null,
   "id": "045c1234",
   "metadata": {},
   "outputs": [],
   "source": []
  }
 ],
 "metadata": {
  "kernelspec": {
   "display_name": "Python 3 (ipykernel)",
   "language": "python",
   "name": "python3"
  },
  "language_info": {
   "codemirror_mode": {
    "name": "ipython",
    "version": 3
   },
   "file_extension": ".py",
   "mimetype": "text/x-python",
   "name": "python",
   "nbconvert_exporter": "python",
   "pygments_lexer": "ipython3",
   "version": "3.12.7"
  }
 },
 "nbformat": 4,
 "nbformat_minor": 5
}
