{
 "cells": [
  {
   "cell_type": "code",
   "execution_count": 1,
   "id": "90e9fa4e",
   "metadata": {},
   "outputs": [
    {
     "name": "stdout",
     "output_type": "stream",
     "text": [
      "4.0\n"
     ]
    }
   ],
   "source": [
    "#1.Find the error in the following Python code:\n",
    "import math\n",
    "print(math.sqrt(16))\n"
   ]
  },
  {
   "cell_type": "code",
   "execution_count": 2,
   "id": "55520fd2",
   "metadata": {},
   "outputs": [
    {
     "name": "stdout",
     "output_type": "stream",
     "text": [
      "15\n"
     ]
    }
   ],
   "source": [
    "#2.Find the error in the following Python code:\n",
    "def my_function():\n",
    "    x = 10\n",
    "    x += 5\n",
    "    print(x)\n",
    "\n",
    "my_function()\n"
   ]
  },
  {
   "cell_type": "code",
   "execution_count": 3,
   "id": "f23899ca",
   "metadata": {},
   "outputs": [
    {
     "name": "stdout",
     "output_type": "stream",
     "text": [
      "x is not 10\n"
     ]
    }
   ],
   "source": [
    "#3.x = 5\n",
    "x = 5\n",
    "if x == 10:\n",
    "    print(\"x is 10\")\n",
    "else:\n",
    "    print(\"x is not 10\")"
   ]
  },
  {
   "cell_type": "code",
   "execution_count": 4,
   "id": "c644c2f2",
   "metadata": {},
   "outputs": [
    {
     "name": "stdout",
     "output_type": "stream",
     "text": [
      "[2, 3, 5, 8]\n"
     ]
    }
   ],
   "source": [
    "#4.\n",
    "numbers = [5, 3, 8, 2]\n",
    "numbers.sort()\n",
    "print(numbers)\n"
   ]
  },
  {
   "cell_type": "code",
   "execution_count": 5,
   "id": "c6bc9bfb",
   "metadata": {},
   "outputs": [
    {
     "name": "stdout",
     "output_type": "stream",
     "text": [
      "16\n"
     ]
    }
   ],
   "source": [
    "#5.\n",
    "def square(n):\n",
    "    return n * n\n",
    "\n",
    "print(square(4))\n"
   ]
  },
  {
   "cell_type": "code",
   "execution_count": 6,
   "id": "3a9dbcc0",
   "metadata": {},
   "outputs": [
    {
     "name": "stdout",
     "output_type": "stream",
     "text": [
      "(2, 3)\n"
     ]
    }
   ],
   "source": [
    "#6.\n",
    "my_tuple = (1, 2, 3)\n",
    "new_tuple = (my_tuple[1], my_tuple[2])\n",
    "print(new_tuple)"
   ]
  },
  {
   "cell_type": "code",
   "execution_count": 7,
   "id": "4a72685b",
   "metadata": {},
   "outputs": [
    {
     "name": "stdout",
     "output_type": "stream",
     "text": [
      "My name is: Alice, and I am: 25 years old\n",
      "My name is: Alice and I am: 25 years old\n"
     ]
    }
   ],
   "source": [
    "#7.\n",
    "name = \"Alice\"\n",
    "age = 25\n",
    "print(f\"My name is: {name}, and I am: {age} years old\")\n",
    "\n",
    "\n",
    "name = \"Alice\"\n",
    "age = 25\n",
    "print(\"My name is:\" ,name, \"and I am:\" ,age, \"years old\")\n"
   ]
  },
  {
   "cell_type": "code",
   "execution_count": 8,
   "id": "3de969fe",
   "metadata": {},
   "outputs": [
    {
     "name": "stdout",
     "output_type": "stream",
     "text": [
      "Lists are equal\n"
     ]
    }
   ],
   "source": [
    "#8.\n",
    "a = [1, 2, 3]\n",
    "b = [1,2, 3]\n",
    "if a==b:\n",
    "    print(\"Lists are equal\")\n"
   ]
  },
  {
   "cell_type": "code",
   "execution_count": 9,
   "id": "dbe38465",
   "metadata": {},
   "outputs": [
    {
     "name": "stdout",
     "output_type": "stream",
     "text": [
      "5\n",
      "4\n",
      "3\n",
      "2\n"
     ]
    }
   ],
   "source": [
    "#9.\n",
    "for i in range(5, 1, -1):\n",
    "    print(i)\n"
   ]
  },
  {
   "cell_type": "code",
   "execution_count": 10,
   "id": "30cb0523",
   "metadata": {},
   "outputs": [
    {
     "name": "stdout",
     "output_type": "stream",
     "text": [
      "{'name': 'John', 'age': 20}\n"
     ]
    }
   ],
   "source": [
    "#10.\n",
    "student = {\"name\": \"John\", \"age\": 20}\n",
    "print(student)\n"
   ]
  },
  {
   "cell_type": "code",
   "execution_count": null,
   "id": "9d363b61-1670-4e89-b822-7dbd98010cce",
   "metadata": {},
   "outputs": [],
   "source": []
  }
 ],
 "metadata": {
  "kernelspec": {
   "display_name": "Python 3 (ipykernel)",
   "language": "python",
   "name": "python3"
  },
  "language_info": {
   "codemirror_mode": {
    "name": "ipython",
    "version": 3
   },
   "file_extension": ".py",
   "mimetype": "text/x-python",
   "name": "python",
   "nbconvert_exporter": "python",
   "pygments_lexer": "ipython3",
   "version": "3.12.7"
  }
 },
 "nbformat": 4,
 "nbformat_minor": 5
}
