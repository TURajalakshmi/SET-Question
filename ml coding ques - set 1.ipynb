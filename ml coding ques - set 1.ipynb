{
 "cells": [
  {
   "cell_type": "code",
   "execution_count": 1,
   "id": "2f07bf40",
   "metadata": {},
   "outputs": [],
   "source": [
    "#1.\n",
    "#Question 1:A retail store wants to identify customers who make frequent purchases. Given the dataset below, write a Python program to:\n",
    "#Group customers by their IDs.\n",
    "#Calculate the total purchase amount per customer.\n",
    "#Identify the top 3 customers with the highest purchase amounts.\n",
    "#Dataset:\n",
    "#data = {'Customer_ID': [101, 102, 103, 101, 104, 102, 101, 105, 102, 103],\n",
    "#        'Purchase_Amount': [200, 150, 180, 220, 300, 200, 100, 400, 250, 300]}\n",
    "#Expected Output:\n",
    "#Total Purchases per Customer:\n",
    "#   Customer_ID  Purchase_Amount\n",
    "#0          101              520\n",
    "#1          102              600\n",
    "#2          103              480\n",
    "#3          104              300\n",
    "#4          105              400\n",
    "#Top 3 Frequent Customers:\n",
    "#   Customer_ID  Purchase_Amount\n",
    "#1          102              600\n",
    "#0          101              520\n",
    "#2          103              480\n",
    "\n",
    "\n",
    "\n",
    "#Answer#\n",
    "\n",
    "\n",
    "import pandas as pd\n",
    "data={'Customer_ID': [101, 102, 103, 101, 104, 102, 101, 105, 102, 103],\n",
    "        'Purchase_Amount': [200, 150, 180, 220, 300, 200, 100, 400, 250, 300]}\n",
    "df=pd.DataFrame(data)\n",
    "Total_Purchases_per_Customer=df.groupby('Customer_ID')['Purchase_Amount'].sum().reset_index()\n",
    "Top_3_Frequent_Customers=Total_Purchases_per_Customer.sort_values(by='Purchase_Amount', ascending=False).head(3)"
   ]
  },
  {
   "cell_type": "code",
   "execution_count": 2,
   "id": "45491545-257f-4495-a7b8-3845f9571477",
   "metadata": {},
   "outputs": [
    {
     "data": {
      "text/html": [
       "<div>\n",
       "<style scoped>\n",
       "    .dataframe tbody tr th:only-of-type {\n",
       "        vertical-align: middle;\n",
       "    }\n",
       "\n",
       "    .dataframe tbody tr th {\n",
       "        vertical-align: top;\n",
       "    }\n",
       "\n",
       "    .dataframe thead th {\n",
       "        text-align: right;\n",
       "    }\n",
       "</style>\n",
       "<table border=\"1\" class=\"dataframe\">\n",
       "  <thead>\n",
       "    <tr style=\"text-align: right;\">\n",
       "      <th></th>\n",
       "      <th>Customer_ID</th>\n",
       "      <th>Purchase_Amount</th>\n",
       "    </tr>\n",
       "  </thead>\n",
       "  <tbody>\n",
       "    <tr>\n",
       "      <th>0</th>\n",
       "      <td>101</td>\n",
       "      <td>200</td>\n",
       "    </tr>\n",
       "    <tr>\n",
       "      <th>1</th>\n",
       "      <td>102</td>\n",
       "      <td>150</td>\n",
       "    </tr>\n",
       "    <tr>\n",
       "      <th>2</th>\n",
       "      <td>103</td>\n",
       "      <td>180</td>\n",
       "    </tr>\n",
       "    <tr>\n",
       "      <th>3</th>\n",
       "      <td>101</td>\n",
       "      <td>220</td>\n",
       "    </tr>\n",
       "    <tr>\n",
       "      <th>4</th>\n",
       "      <td>104</td>\n",
       "      <td>300</td>\n",
       "    </tr>\n",
       "    <tr>\n",
       "      <th>5</th>\n",
       "      <td>102</td>\n",
       "      <td>200</td>\n",
       "    </tr>\n",
       "    <tr>\n",
       "      <th>6</th>\n",
       "      <td>101</td>\n",
       "      <td>100</td>\n",
       "    </tr>\n",
       "    <tr>\n",
       "      <th>7</th>\n",
       "      <td>105</td>\n",
       "      <td>400</td>\n",
       "    </tr>\n",
       "    <tr>\n",
       "      <th>8</th>\n",
       "      <td>102</td>\n",
       "      <td>250</td>\n",
       "    </tr>\n",
       "    <tr>\n",
       "      <th>9</th>\n",
       "      <td>103</td>\n",
       "      <td>300</td>\n",
       "    </tr>\n",
       "  </tbody>\n",
       "</table>\n",
       "</div>"
      ],
      "text/plain": [
       "   Customer_ID  Purchase_Amount\n",
       "0          101              200\n",
       "1          102              150\n",
       "2          103              180\n",
       "3          101              220\n",
       "4          104              300\n",
       "5          102              200\n",
       "6          101              100\n",
       "7          105              400\n",
       "8          102              250\n",
       "9          103              300"
      ]
     },
     "execution_count": 2,
     "metadata": {},
     "output_type": "execute_result"
    }
   ],
   "source": [
    "df"
   ]
  },
  {
   "cell_type": "code",
   "execution_count": 3,
   "id": "f9f1f76f-ff1b-4333-a941-9b62350cfc63",
   "metadata": {},
   "outputs": [
    {
     "name": "stdout",
     "output_type": "stream",
     "text": [
      "Total Purchases per Customer:\n",
      "   Customer_ID  Purchase_Amount\n",
      "0          101              520\n",
      "1          102              600\n",
      "2          103              480\n",
      "3          104              300\n",
      "4          105              400\n"
     ]
    }
   ],
   "source": [
    "print(\"Total Purchases per Customer:\")\n",
    "print(Total_Purchases_per_Customer)"
   ]
  },
  {
   "cell_type": "code",
   "execution_count": 4,
   "id": "1dd89b14-b2e6-4368-b7e3-5b4d2cca996a",
   "metadata": {},
   "outputs": [
    {
     "name": "stdout",
     "output_type": "stream",
     "text": [
      "Top_3_Frequent_Customers:\n",
      "   Customer_ID  Purchase_Amount\n",
      "1          102              600\n",
      "0          101              520\n",
      "2          103              480\n"
     ]
    }
   ],
   "source": [
    "print(\"Top_3_Frequent_Customers:\")\n",
    "print(Top_3_Frequent_Customers)"
   ]
  },
  {
   "cell_type": "code",
   "execution_count": 5,
   "id": "1b725120",
   "metadata": {},
   "outputs": [
    {
     "name": "stderr",
     "output_type": "stream",
     "text": [
      "C:\\Users\\Raji\\anaconda3\\envs\\aiml\\Lib\\site-packages\\sklearn\\base.py:493: UserWarning: X does not have valid feature names, but LinearRegression was fitted with feature names\n",
      "  warnings.warn(\n"
     ]
    }
   ],
   "source": [
    "#2. Predicting House Prices with Linear Regression\n",
    "#A real estate company wants to predict house prices based on square footage. Write a Python program to:\n",
    "#Train a Linear Regression model.\n",
    "#Predict house prices for given test data.\n",
    "#Dataset:\n",
    "#data = {'Square_Feet': [1500, 2000, 2500, 3000, 3500],\n",
    "#        'Price': [300000, 400000, 500000, 600000, 700000]}\n",
    "#Test Data: [[1800], [2800]]\n",
    "#Expected Output:\n",
    "#Predicted Prices:\n",
    "#[360000. 560000.]\n",
    "\n",
    "\n",
    "#Answer#\n",
    "\n",
    "import pandas as pd\n",
    "from sklearn.model_selection import train_test_split\n",
    "from sklearn.linear_model import LinearRegression\n",
    "\n",
    "data = {'Square_Feet': [1500, 2000, 2500, 3000, 3500],\n",
    "        'Price': [300000, 400000, 500000, 600000, 700000]}\n",
    "\n",
    "df = pd.DataFrame(data)\n",
    "X=df[['Square_Feet']]\n",
    "Y=df[['Price']]\n",
    "\n",
    "model = LinearRegression()\n",
    "model.fit(X,Y)\n",
    "\n",
    "Test_Data = [[1800], [2800]]\n",
    "prediction = model.predict(Test_Data)\n"
   ]
  },
  {
   "cell_type": "code",
   "execution_count": 6,
   "id": "01e10c92-6430-43ee-970a-bb4f6134facd",
   "metadata": {},
   "outputs": [
    {
     "name": "stdout",
     "output_type": "stream",
     "text": [
      "Predicted Prices:\n",
      "[[360000.]\n",
      " [560000.]]\n"
     ]
    }
   ],
   "source": [
    "print(\"Predicted Prices:\")\n",
    "print(prediction)"
   ]
  },
  {
   "cell_type": "code",
   "execution_count": 7,
   "id": "2aae1fb9",
   "metadata": {},
   "outputs": [
    {
     "data": {
      "text/html": [
       "<div>\n",
       "<style scoped>\n",
       "    .dataframe tbody tr th:only-of-type {\n",
       "        vertical-align: middle;\n",
       "    }\n",
       "\n",
       "    .dataframe tbody tr th {\n",
       "        vertical-align: top;\n",
       "    }\n",
       "\n",
       "    .dataframe thead th {\n",
       "        text-align: right;\n",
       "    }\n",
       "</style>\n",
       "<table border=\"1\" class=\"dataframe\">\n",
       "  <thead>\n",
       "    <tr style=\"text-align: right;\">\n",
       "      <th></th>\n",
       "      <th>Category</th>\n",
       "      <th>Value</th>\n",
       "    </tr>\n",
       "  </thead>\n",
       "  <tbody>\n",
       "    <tr>\n",
       "      <th>0</th>\n",
       "      <td>A</td>\n",
       "      <td>10</td>\n",
       "    </tr>\n",
       "    <tr>\n",
       "      <th>1</th>\n",
       "      <td>B</td>\n",
       "      <td>15</td>\n",
       "    </tr>\n",
       "    <tr>\n",
       "      <th>2</th>\n",
       "      <td>C</td>\n",
       "      <td>20</td>\n",
       "    </tr>\n",
       "    <tr>\n",
       "      <th>3</th>\n",
       "      <td>A</td>\n",
       "      <td>30</td>\n",
       "    </tr>\n",
       "    <tr>\n",
       "      <th>4</th>\n",
       "      <td>D</td>\n",
       "      <td>25</td>\n",
       "    </tr>\n",
       "    <tr>\n",
       "      <th>5</th>\n",
       "      <td>B</td>\n",
       "      <td>18</td>\n",
       "    </tr>\n",
       "    <tr>\n",
       "      <th>6</th>\n",
       "      <td>A</td>\n",
       "      <td>22</td>\n",
       "    </tr>\n",
       "    <tr>\n",
       "      <th>7</th>\n",
       "      <td>E</td>\n",
       "      <td>40</td>\n",
       "    </tr>\n",
       "    <tr>\n",
       "      <th>8</th>\n",
       "      <td>B</td>\n",
       "      <td>35</td>\n",
       "    </tr>\n",
       "    <tr>\n",
       "      <th>9</th>\n",
       "      <td>C</td>\n",
       "      <td>50</td>\n",
       "    </tr>\n",
       "    <tr>\n",
       "      <th>10</th>\n",
       "      <td>C</td>\n",
       "      <td>45</td>\n",
       "    </tr>\n",
       "    <tr>\n",
       "      <th>11</th>\n",
       "      <td>A</td>\n",
       "      <td>15</td>\n",
       "    </tr>\n",
       "  </tbody>\n",
       "</table>\n",
       "</div>"
      ],
      "text/plain": [
       "   Category  Value\n",
       "0         A     10\n",
       "1         B     15\n",
       "2         C     20\n",
       "3         A     30\n",
       "4         D     25\n",
       "5         B     18\n",
       "6         A     22\n",
       "7         E     40\n",
       "8         B     35\n",
       "9         C     50\n",
       "10        C     45\n",
       "11        A     15"
      ]
     },
     "execution_count": 7,
     "metadata": {},
     "output_type": "execute_result"
    }
   ],
   "source": [
    "#3:\n",
    "#Identifying Frequent Labels in a Dataset\n",
    "#A company wants to identify the top 3 most common categories in a dataset. Given the dataset below, write a Python program to:\n",
    "#Group the data by Category.\n",
    "#Count the total occurrences of each category.\n",
    "#Identify the top 3 most frequent categories.\n",
    "#Dataset:\n",
    "#data = {'Category': ['A', 'B', 'C', 'A', 'D', 'B', 'A', 'E', 'B', 'C', 'C', 'A'],\n",
    "#        'Value': [10, 15, 20, 30, 25, 18, 22, 40, 35, 50, 45, 15]}\n",
    "#Expected Output:\n",
    "#Total Occurrences per Category:\n",
    "#  Category  Count\n",
    "#0        A      4\n",
    "#1        B      3\n",
    "#2        C      3\n",
    "#3        D      1\n",
    "#4        E      1\n",
    "#Top 3 Frequent Categories:\n",
    "#  Category  Count\n",
    "#0        A      4\n",
    "#1        B      3\n",
    "#2        C      3\n",
    "\n",
    "\n",
    "\n",
    "#Answer#\n",
    "\n",
    "\n",
    "import pandas as pd\n",
    "\n",
    "data = {'Category': ['A', 'B', 'C', 'A', 'D', 'B', 'A', 'E', 'B', 'C', 'C', 'A'],\n",
    "        'Value': [10, 15, 20, 30, 25, 18, 22, 40, 35, 50, 45, 15]}\n",
    "\n",
    "df = pd.DataFrame(data)\n",
    "Total_Occurrences = df.groupby('Category')['Value'].count().reset_index()\n",
    "Top_3 = Total_Occurrences.sort_values('Value', ascending = False).head(3)\n",
    "df"
   ]
  },
  {
   "cell_type": "code",
   "execution_count": 8,
   "id": "b79be9eb-c0fe-43b8-9e54-445ba722b80b",
   "metadata": {},
   "outputs": [
    {
     "name": "stdout",
     "output_type": "stream",
     "text": [
      "Total Occurrences per Category:\n",
      "  Category  Value\n",
      "0        A      4\n",
      "1        B      3\n",
      "2        C      3\n",
      "3        D      1\n",
      "4        E      1\n"
     ]
    }
   ],
   "source": [
    "print(\"Total Occurrences per Category:\")\n",
    "print(Total_Occurrences)"
   ]
  },
  {
   "cell_type": "code",
   "execution_count": 9,
   "id": "580dfa5d-0589-4f8a-beb4-a10328e4effb",
   "metadata": {},
   "outputs": [
    {
     "name": "stdout",
     "output_type": "stream",
     "text": [
      "Top 3 Frequent Categories:\n",
      "  Category  Value\n",
      "0        A      4\n",
      "1        B      3\n",
      "2        C      3\n"
     ]
    }
   ],
   "source": [
    "print(\"Top 3 Frequent Categories:\")\n",
    "print(Top_3)"
   ]
  },
  {
   "cell_type": "code",
   "execution_count": 10,
   "id": "e00c3d13",
   "metadata": {},
   "outputs": [
    {
     "name": "stdout",
     "output_type": "stream",
     "text": [
      "Original Data:\n",
      "      Name   Age\n",
      "0    Alice  25.0\n",
      "1      Bob  30.0\n",
      "2  Charlie   NaN\n",
      "3    David  35.0\n",
      "4      Eve   NaN\n",
      "Data after Imputation:\n",
      "      Name   Age\n",
      "0    Alice  25.0\n",
      "1      Bob  30.0\n",
      "2  Charlie  30.0\n",
      "3    David  35.0\n",
      "4      Eve  30.0\n"
     ]
    },
    {
     "name": "stderr",
     "output_type": "stream",
     "text": [
      "C:\\Users\\Raji\\AppData\\Local\\Temp\\ipykernel_8784\\2091064431.py:38: FutureWarning: A value is trying to be set on a copy of a DataFrame or Series through chained assignment using an inplace method.\n",
      "The behavior will change in pandas 3.0. This inplace method will never work because the intermediate object on which we are setting values always behaves as a copy.\n",
      "\n",
      "For example, when doing 'df[col].method(value, inplace=True)', try using 'df.method({col: value}, inplace=True)' or df[col] = df[col].method(value) instead, to perform the operation inplace on the original object.\n",
      "\n",
      "\n",
      "  df['Age'].fillna(df['Age'].mean(), inplace=True)\n"
     ]
    }
   ],
   "source": [
    "#4.Predicting Missing Values Using Mean Imputation\n",
    "#A dataset contains missing values in the Age column. Write a Python program to:\n",
    "#Replace missing values with the mean of the column.\n",
    "#Display the updated DataFrame.\n",
    "#Dataset:\n",
    "#data = {'Name': ['Alice', 'Bob', 'Charlie', 'David', 'Eve'],\n",
    "#        'Age': [25, 30, None, 35, None]}\n",
    "#Expected Output:\n",
    "#Original Data:\n",
    "#     Name   Age\n",
    "#0  Alice  25.0\n",
    "#1    Bob  30.0\n",
    "#2 Charlie   NaN\n",
    "#3  David  35.0\n",
    "#4    Eve   NaN\n",
    "#Data after Imputation:\n",
    "#     Name   Age\n",
    "#0  Alice  25.0\n",
    "#1    Bob  30.0\n",
    "#2 Charlie  30.0\n",
    "#3  David  35.0\n",
    "#4    Eve  30.0\n",
    "\n",
    "\n",
    "\n",
    "#Answer#\n",
    "\n",
    "\n",
    "import pandas as pd\n",
    "\n",
    "data = {'Name': ['Alice', 'Bob', 'Charlie', 'David', 'Eve'],\n",
    "        'Age': [25, 30, None, 35, None]}\n",
    "\n",
    "df = pd.DataFrame(data)\n",
    "print(\"Original Data:\")\n",
    "print(df)\n",
    "\n",
    "df['Age'].fillna(df['Age'].mean(), inplace=True)\n",
    "print(\"Data after Imputation:\")\n",
    "print(df)"
   ]
  },
  {
   "cell_type": "code",
   "execution_count": 11,
   "id": "46620661",
   "metadata": {},
   "outputs": [
    {
     "name": "stdout",
     "output_type": "stream",
     "text": [
      "Predicted Salary for 6 years of experience: $55000.00\n"
     ]
    },
    {
     "name": "stderr",
     "output_type": "stream",
     "text": [
      "C:\\Users\\Raji\\anaconda3\\envs\\aiml\\Lib\\site-packages\\sklearn\\base.py:493: UserWarning: X does not have valid feature names, but LinearRegression was fitted with feature names\n",
      "  warnings.warn(\n"
     ]
    }
   ],
   "source": [
    "# 5: Implementing a Simple Linear Regression Model\n",
    "#You are given a dataset with Experience (years) and Salary ($). Write a Python program to:\n",
    "#Train a Linear Regression model.\n",
    "#Predict the salary for an individual with 6 years of experience.\n",
    "#Dataset:\n",
    "#import pandas as pd\n",
    "#data = {'Experience': [1, 2, 3, 4, 5], \n",
    "#        'Salary': [30000, 35000, 40000, 45000, 50000]}\n",
    "#df = pd.DataFrame(data)\n",
    "#Expected Output (Example):\n",
    "#Predicted Salary for 6 years of experience: $55000\n",
    "\n",
    "\n",
    "\n",
    "#Answer#\n",
    "\n",
    "\n",
    "import pandas as pd\n",
    "from sklearn.model_selection import train_test_split\n",
    "from sklearn.linear_model import LinearRegression\n",
    "\n",
    "data = {'Experience': [1, 2, 3, 4, 5], \n",
    "        'Salary': [30000, 35000, 40000, 45000, 50000]}\n",
    "\n",
    "df = pd.DataFrame(data)\n",
    "X = df[[\"Experience\"]]\n",
    "Y = df[[\"Salary\"]]\n",
    "\n",
    "model = LinearRegression()\n",
    "model.fit(X,Y)\n",
    "\n",
    "prediction=model.predict([[6]])\n",
    "print(f\"Predicted Salary for 6 years of experience: ${prediction[0][0]:.2f}\")"
   ]
  },
  {
   "cell_type": "code",
   "execution_count": null,
   "id": "37a3f22e-6059-472a-935a-fe6fb00dfd2d",
   "metadata": {},
   "outputs": [],
   "source": []
  }
 ],
 "metadata": {
  "kernelspec": {
   "display_name": "Python 3 (ipykernel)",
   "language": "python",
   "name": "python3"
  },
  "language_info": {
   "codemirror_mode": {
    "name": "ipython",
    "version": 3
   },
   "file_extension": ".py",
   "mimetype": "text/x-python",
   "name": "python",
   "nbconvert_exporter": "python",
   "pygments_lexer": "ipython3",
   "version": "3.12.7"
  }
 },
 "nbformat": 4,
 "nbformat_minor": 5
}
